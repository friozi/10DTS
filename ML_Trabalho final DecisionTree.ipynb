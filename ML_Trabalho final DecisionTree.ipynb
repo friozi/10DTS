{
 "cells": [
  {
   "cell_type": "markdown",
   "id": "7232edc5",
   "metadata": {},
   "source": [
    "#Decision Tree"
   ]
  },
  {
   "cell_type": "code",
   "execution_count": 2,
   "id": "4a7f086c",
   "metadata": {},
   "outputs": [
    {
     "name": "stderr",
     "output_type": "stream",
     "text": [
      "/var/folders/j_/wwm3syvn58nb_fbllrh1fxg40000gn/T/ipykernel_7639/2495195231.py:12: DtypeWarning: Columns (26) have mixed types. Specify dtype option on import or set low_memory=False.\n",
      "  train = pd.read_csv('train.csv')\n"
     ]
    }
   ],
   "source": [
    "# 1. Importação de bibliotecas\n",
    "import pandas as pd\n",
    "from sklearn.model_selection import train_test_split\n",
    "from sklearn.impute import SimpleImputer\n",
    "from sklearn.preprocessing import OneHotEncoder, StandardScaler\n",
    "from sklearn.pipeline import Pipeline\n",
    "from sklearn.compose import ColumnTransformer\n",
    "from sklearn.tree import DecisionTreeClassifier\n",
    "from sklearn.metrics import classification_report, confusion_matrix, roc_auc_score\n",
    "\n",
    "# 2. Carregamento dos dados\n",
    "train = pd.read_csv('train.csv')\n",
    "test  = pd.read_csv('test.csv')\n",
    "\n"
   ]
  },
  {
   "cell_type": "code",
   "execution_count": 3,
   "id": "f247ebae",
   "metadata": {},
   "outputs": [],
   "source": [
    "# 3. Defina o nome da coluna alvo\n",
    "TARGET = 'Credit_Score'  # ajuste se necessário\n",
    "\n",
    "# 4. Separe X e y\n",
    "X = train.drop(columns=[TARGET])\n",
    "y = train[TARGET]\n"
   ]
  },
  {
   "cell_type": "code",
   "execution_count": 4,
   "id": "bcdb9697",
   "metadata": {},
   "outputs": [],
   "source": [
    "\n",
    "# 5. Divisão treino / validação\n",
    "X_train, X_val, y_train, y_val = train_test_split(\n",
    "    X, y, test_size=0.2, stratify=y, random_state=42\n",
    ")\n"
   ]
  },
  {
   "cell_type": "code",
   "execution_count": 5,
   "id": "27f3ca10",
   "metadata": {},
   "outputs": [],
   "source": [
    "\n",
    "# 6. Identifique features numéricas e categóricas\n",
    "numeric_feats = X_train.select_dtypes(include=['int64','float64']).columns.tolist()\n",
    "categorical_feats = X_train.select_dtypes(include=['object','category']).columns.tolist()\n"
   ]
  },
  {
   "cell_type": "code",
   "execution_count": 6,
   "id": "ebefd7e4",
   "metadata": {},
   "outputs": [],
   "source": [
    "from sklearn.preprocessing import FunctionTransformer\n",
    "\n",
    "# 7. Pipelines de pré‑processamento\n",
    "numeric_pipeline = Pipeline([\n",
    "    ('imputer', SimpleImputer(strategy='mean')),\n",
    "    ('scaler',  StandardScaler())\n",
    "])\n",
    "\n",
    "categorical_pipeline = Pipeline([\n",
    "    ('imputer', SimpleImputer(strategy='constant', fill_value='missing')),\n",
    "    # converte tudo para string, unificando o tipo\n",
    "    ('to_str',   FunctionTransformer(lambda X: X.astype(str))),\n",
    "    ('onehot',   OneHotEncoder(handle_unknown='ignore', sparse_output=False))\n",
    "])\n",
    "\n",
    "preprocessor = ColumnTransformer([\n",
    "    ('num', numeric_pipeline, numeric_feats),\n",
    "    ('cat', categorical_pipeline, categorical_feats)\n",
    "])\n",
    "\n",
    "\n"
   ]
  },
  {
   "cell_type": "code",
   "execution_count": 7,
   "id": "47564faa",
   "metadata": {},
   "outputs": [],
   "source": [
    "# 8. Pipeline completo com Decision Tree\n",
    "dt_pipe = Pipeline([\n",
    "    ('preproc', preprocessor),\n",
    "    ('clf',     DecisionTreeClassifier(random_state=42))\n",
    "])\n"
   ]
  },
  {
   "cell_type": "code",
   "execution_count": 1,
   "id": "3ea91a1a",
   "metadata": {},
   "outputs": [
    {
     "ename": "NameError",
     "evalue": "name 'dt_pipe' is not defined",
     "output_type": "error",
     "traceback": [
      "\u001b[0;31m---------------------------------------------------------------------------\u001b[0m",
      "\u001b[0;31mNameError\u001b[0m                                 Traceback (most recent call last)",
      "Cell \u001b[0;32mIn[1], line 2\u001b[0m\n\u001b[1;32m      1\u001b[0m \u001b[38;5;66;03m# 9. Treinamento\u001b[39;00m\n\u001b[0;32m----> 2\u001b[0m \u001b[43mdt_pipe\u001b[49m\u001b[38;5;241m.\u001b[39mfit(X_train, y_train)\n",
      "\u001b[0;31mNameError\u001b[0m: name 'dt_pipe' is not defined"
     ]
    }
   ],
   "source": [
    "# 9. Treinamento\n",
    "dt_pipe.fit(X_train, y_train)"
   ]
  },
  {
   "cell_type": "code",
   "execution_count": null,
   "id": "d7cef44a",
   "metadata": {},
   "outputs": [],
   "source": [
    "# 10. Avaliação no conjunto de validação\n",
    "y_pred = dt_pipe.predict(X_val)\n",
    "# Se quiser probabilidade, usar dt_pipe.predict_proba(X_val)[:,1]\n",
    "print(\"=== Decision Tree ===\")\n",
    "print(classification_report(y_val, y_pred))\n",
    "print(\"Confusion Matrix:\\n\", confusion_matrix(y_val, y_pred))\n",
    "if hasattr(dt_pipe, \"predict_proba\"):\n",
    "    print(\"ROC AUC: \", roc_auc_score(y_val, dt_pipe.predict_proba(X_val)[:,1]))\n",
    "\n",
    "# 11. Treinar no conjunto completo e gerar submissão\n",
    "dt_pipe.fit(X, y)  # re-treina usando todo o train.csv\n",
    "\n",
    "test_preds = dt_pipe.predict(test)\n",
    "submission = pd.DataFrame({\n",
    "    'ID': test.index,      # ou substitua pela coluna de ID em test.csv\n",
    "    TARGET: test_preds\n",
    "})\n",
    "submission.to_csv('dt_predictions.csv', index=False)\n",
    "print(\"\\nArquivo dt_predictions.csv gerado com sucesso!\")"
   ]
  }
 ],
 "metadata": {
  "kernelspec": {
   "display_name": "Python 3",
   "language": "python",
   "name": "python3"
  },
  "language_info": {
   "codemirror_mode": {
    "name": "ipython",
    "version": 3
   },
   "file_extension": ".py",
   "mimetype": "text/x-python",
   "name": "python",
   "nbconvert_exporter": "python",
   "pygments_lexer": "ipython3",
   "version": "3.9.6"
  }
 },
 "nbformat": 4,
 "nbformat_minor": 5
}
